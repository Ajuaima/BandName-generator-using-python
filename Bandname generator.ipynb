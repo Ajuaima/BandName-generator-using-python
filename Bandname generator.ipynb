{
 "cells": [
  {
   "cell_type": "code",
   "execution_count": 1,
   "id": "3b38c80d-a41b-4f9f-ab89-011ca58fb1ef",
   "metadata": {},
   "outputs": [
    {
     "name": "stdout",
     "output_type": "stream",
     "text": [
      "Welcome to the band generator!!\n"
     ]
    },
    {
     "name": "stdin",
     "output_type": "stream",
     "text": [
      "What city did you grow up in?\n",
      " Lagos\n",
      "What is the name of your pet?\n",
      " Judas\n"
     ]
    },
    {
     "name": "stdout",
     "output_type": "stream",
     "text": [
      "The name of your band should be Lagos Judas\n"
     ]
    }
   ],
   "source": [
    "print(\"Welcome to the band generator!!\")\n",
    "city = (input(\"What city did you grow up in?\\n\"))\n",
    "pet = (input(\"What is the name of your pet?\\n\"))\n",
    "print(\"The name of your band should be\" + \" \" + city + \" \" + pet)"
   ]
  },
  {
   "cell_type": "code",
   "execution_count": null,
   "id": "4e6a4375-c791-49fb-90bf-be9c91f34a73",
   "metadata": {},
   "outputs": [],
   "source": []
  }
 ],
 "metadata": {
  "kernelspec": {
   "display_name": "Python 3 (ipykernel)",
   "language": "python",
   "name": "python3"
  },
  "language_info": {
   "codemirror_mode": {
    "name": "ipython",
    "version": 3
   },
   "file_extension": ".py",
   "mimetype": "text/x-python",
   "name": "python",
   "nbconvert_exporter": "python",
   "pygments_lexer": "ipython3",
   "version": "3.11.7"
  }
 },
 "nbformat": 4,
 "nbformat_minor": 5
}
